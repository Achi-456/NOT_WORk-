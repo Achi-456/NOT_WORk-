{
 "cells": [
  {
   "cell_type": "markdown",
   "id": "380a5b4b",
   "metadata": {},
   "source": [
    "# Image Dataset Splitter\n",
    "This notebook splits images into train, validation, and test sets and saves them in a new folder structure."
   ]
  },
  {
   "cell_type": "markdown",
   "id": "0ef904ee",
   "metadata": {},
   "source": [
    "## Import Required Libraries"
   ]
  },
  {
   "cell_type": "code",
   "execution_count": 18,
   "id": "bb1310a8",
   "metadata": {},
   "outputs": [],
   "source": [
    "import os\n",
    "import shutil\n",
    "from pathlib import Path\n",
    "from sklearn.model_selection import train_test_split\n",
    "import random\n",
    "from tqdm import tqdm\n",
    "\n",
    "# Set random seed for reproducibility\n",
    "random.seed(42)"
   ]
  },
  {
   "cell_type": "markdown",
   "id": "dfaae16a",
   "metadata": {},
   "source": [
    "## Configuration"
   ]
  },
  {
   "cell_type": "code",
   "execution_count": 19,
   "id": "7208c8a0",
   "metadata": {},
   "outputs": [
    {
     "name": "stdout",
     "output_type": "stream",
     "text": [
      "Source directory: RealWaste\n",
      "Destination directory: E:\\CNN-A03\\dataloader\n",
      "Split ratios - Train: 0.7, Val: 0.15, Test: 0.15\n"
     ]
    }
   ],
   "source": [
    "# Source directory (change this to your dataset path)\n",
    "SOURCE_DIR = 'RealWaste'\n",
    "\n",
    "# Destination directory\n",
    "DEST_DIR = r'E:\\CNN-A03\\dataloader'\n",
    "\n",
    "# Split ratios\n",
    "TRAIN_RATIO = 0.7  # 70% for training\n",
    "VAL_RATIO = 0.15   # 15% for validation\n",
    "TEST_RATIO = 0.15  # 15% for testing\n",
    "\n",
    "print(f\"Source directory: {SOURCE_DIR}\")\n",
    "print(f\"Destination directory: {DEST_DIR}\")\n",
    "print(f\"Split ratios - Train: {TRAIN_RATIO}, Val: {VAL_RATIO}, Test: {TEST_RATIO}\")"
   ]
  },
  {
   "cell_type": "markdown",
   "id": "0d7ddc1b",
   "metadata": {},
   "source": [
    "## Create Directory Structure"
   ]
  },
  {
   "cell_type": "code",
   "execution_count": 20,
   "id": "9f88101a",
   "metadata": {},
   "outputs": [
    {
     "name": "stdout",
     "output_type": "stream",
     "text": [
      "Found 9 classes: ['Cardboard', 'Food Organics', 'Glass', 'Metal', 'Miscellaneous Trash', 'Paper', 'Plastic', 'Textile Trash', 'Vegetation']\n",
      "Created directory structure in E:\\CNN-A03\\dataloader\n"
     ]
    }
   ],
   "source": [
    "def create_directory_structure(base_dir, classes):\n",
    "    \"\"\"\n",
    "    Create train, val, and test directories with class subdirectories\n",
    "    \"\"\"\n",
    "    for split in ['train', 'val', 'test']:\n",
    "        for class_name in classes:\n",
    "            dir_path = os.path.join(base_dir, split, class_name)\n",
    "            os.makedirs(dir_path, exist_ok=True)\n",
    "    print(f\"Created directory structure in {base_dir}\")\n",
    "\n",
    "# Get class names from the source directory\n",
    "train_dir = os.path.join(SOURCE_DIR, 'train')\n",
    "if os.path.exists(train_dir):\n",
    "    classes = [d for d in os.listdir(train_dir) if os.path.isdir(os.path.join(train_dir, d))]\n",
    "else:\n",
    "    # If train directory doesn't exist, list all subdirectories in source\n",
    "    classes = [d for d in os.listdir(SOURCE_DIR) if os.path.isdir(os.path.join(SOURCE_DIR, d))]\n",
    "\n",
    "print(f\"Found {len(classes)} classes: {classes}\")\n",
    "create_directory_structure(DEST_DIR, classes)"
   ]
  },
  {
   "cell_type": "markdown",
   "id": "637608b3",
   "metadata": {},
   "source": [
    "## Collect All Images from Source"
   ]
  },
  {
   "cell_type": "code",
   "execution_count": 21,
   "id": "3593c4cb",
   "metadata": {},
   "outputs": [
    {
     "name": "stdout",
     "output_type": "stream",
     "text": [
      "\n",
      "Image count per class:\n",
      "  Cardboard: 461 images\n",
      "  Food Organics: 411 images\n",
      "  Glass: 420 images\n",
      "  Metal: 790 images\n",
      "  Miscellaneous Trash: 495 images\n",
      "  Paper: 500 images\n",
      "  Plastic: 921 images\n",
      "  Textile Trash: 318 images\n",
      "  Vegetation: 436 images\n",
      "\n",
      "Total images: 4752\n"
     ]
    }
   ],
   "source": [
    "def collect_images_from_source(source_dir, classes):\n",
    "    \"\"\"\n",
    "    Collect all images from source directory (train, val, test folders)\n",
    "    Returns a dictionary with class names as keys and list of image paths as values\n",
    "    \"\"\"\n",
    "    images_by_class = {class_name: [] for class_name in classes}\n",
    "    \n",
    "    # Check if source has train/val/test structure\n",
    "    has_splits = all(os.path.exists(os.path.join(source_dir, split)) \n",
    "                     for split in ['train', 'val', 'test'])\n",
    "    \n",
    "    if has_splits:\n",
    "        # Collect from train, val, and test folders\n",
    "        for split in ['train', 'val', 'test']:\n",
    "            split_dir = os.path.join(source_dir, split)\n",
    "            for class_name in classes:\n",
    "                class_dir = os.path.join(split_dir, class_name)\n",
    "                if os.path.exists(class_dir):\n",
    "                    for img_file in os.listdir(class_dir):\n",
    "                        if img_file.lower().endswith(('.png', '.jpg', '.jpeg', '.bmp', '.gif')):\n",
    "                            images_by_class[class_name].append(os.path.join(class_dir, img_file))\n",
    "    else:\n",
    "        # Collect directly from class folders\n",
    "        for class_name in classes:\n",
    "            class_dir = os.path.join(source_dir, class_name)\n",
    "            if os.path.exists(class_dir):\n",
    "                for img_file in os.listdir(class_dir):\n",
    "                    if img_file.lower().endswith(('.png', '.jpg', '.jpeg', '.bmp', '.gif')):\n",
    "                        images_by_class[class_name].append(os.path.join(class_dir, img_file))\n",
    "    \n",
    "    return images_by_class\n",
    "\n",
    "images_by_class = collect_images_from_source(SOURCE_DIR, classes)\n",
    "\n",
    "# Print statistics\n",
    "print(\"\\nImage count per class:\")\n",
    "total_images = 0\n",
    "for class_name, images in images_by_class.items():\n",
    "    print(f\"  {class_name}: {len(images)} images\")\n",
    "    total_images += len(images)\n",
    "print(f\"\\nTotal images: {total_images}\")"
   ]
  },
  {
   "cell_type": "markdown",
   "id": "a65ac3d9",
   "metadata": {},
   "source": [
    "## Split and Copy Images"
   ]
  },
  {
   "cell_type": "code",
   "execution_count": 22,
   "id": "e7becaf1",
   "metadata": {},
   "outputs": [
    {
     "name": "stdout",
     "output_type": "stream",
     "text": [
      "Starting to split and copy images...\n"
     ]
    },
    {
     "name": "stderr",
     "output_type": "stream",
     "text": [
      "Processing classes: 100%|██████████| 9/9 [00:02<00:00,  3.35it/s]"
     ]
    },
    {
     "name": "stdout",
     "output_type": "stream",
     "text": [
      "\n",
      "==================================================\n",
      "SPLITTING COMPLETE!\n",
      "==================================================\n",
      "\n",
      "Images copied:\n",
      "  Training set: 3323 images\n",
      "  Validation set: 710 images\n",
      "  Test set: 719 images\n",
      "  Total: 4752 images\n",
      "\n",
      "Data saved in: E:\\CNN-A03\\dataloader\n"
     ]
    },
    {
     "name": "stderr",
     "output_type": "stream",
     "text": [
      "\n"
     ]
    }
   ],
   "source": [
    "def split_and_copy_images(images_by_class, dest_dir, train_ratio, val_ratio, test_ratio):\n",
    "    \"\"\"\n",
    "    Split images into train, val, and test sets and copy them to destination\n",
    "    \"\"\"\n",
    "    stats = {'train': 0, 'val': 0, 'test': 0}\n",
    "    \n",
    "    for class_name, images in tqdm(images_by_class.items(), desc=\"Processing classes\"):\n",
    "        if len(images) == 0:\n",
    "            print(f\"Warning: No images found for class {class_name}\")\n",
    "            continue\n",
    "        \n",
    "        # Shuffle images\n",
    "        random.shuffle(images)\n",
    "        \n",
    "        # Calculate split indices\n",
    "        n_total = len(images)\n",
    "        n_train = int(n_total * train_ratio)\n",
    "        n_val = int(n_total * val_ratio)\n",
    "        \n",
    "        # Split images\n",
    "        train_images = images[:n_train]\n",
    "        val_images = images[n_train:n_train + n_val]\n",
    "        test_images = images[n_train + n_val:]\n",
    "        \n",
    "        # Copy images to respective folders\n",
    "        for split_name, split_images in [('train', train_images), \n",
    "                                          ('val', val_images), \n",
    "                                          ('test', test_images)]:\n",
    "            dest_class_dir = os.path.join(dest_dir, split_name, class_name)\n",
    "            for img_path in split_images:\n",
    "                img_name = os.path.basename(img_path)\n",
    "                dest_path = os.path.join(dest_class_dir, img_name)\n",
    "                shutil.copy2(img_path, dest_path)\n",
    "                stats[split_name] += 1\n",
    "    \n",
    "    return stats\n",
    "\n",
    "print(\"Starting to split and copy images...\")\n",
    "stats = split_and_copy_images(images_by_class, DEST_DIR, TRAIN_RATIO, VAL_RATIO, TEST_RATIO)\n",
    "\n",
    "print(\"\\n\" + \"=\"*50)\n",
    "print(\"SPLITTING COMPLETE!\")\n",
    "print(\"=\"*50)\n",
    "print(f\"\\nImages copied:\")\n",
    "print(f\"  Training set: {stats['train']} images\")\n",
    "print(f\"  Validation set: {stats['val']} images\")\n",
    "print(f\"  Test set: {stats['test']} images\")\n",
    "print(f\"  Total: {sum(stats.values())} images\")\n",
    "print(f\"\\nData saved in: {DEST_DIR}\")"
   ]
  },
  {
   "cell_type": "markdown",
   "id": "016a0b3c",
   "metadata": {},
   "source": [
    "## Verify the Split"
   ]
  },
  {
   "cell_type": "code",
   "execution_count": 23,
   "id": "911945c0",
   "metadata": {},
   "outputs": [
    {
     "name": "stdout",
     "output_type": "stream",
     "text": [
      "\n",
      "Verification of split:\n",
      "==================================================\n",
      "\n",
      "TRAIN SET:\n",
      "  Cardboard: 322 images\n",
      "  Food Organics: 287 images\n",
      "  Glass: 294 images\n",
      "  Metal: 553 images\n",
      "  Miscellaneous Trash: 346 images\n",
      "  Paper: 350 images\n",
      "  Plastic: 644 images\n",
      "  Textile Trash: 222 images\n",
      "  Vegetation: 305 images\n",
      "  Total: 3323 images\n",
      "\n",
      "VAL SET:\n",
      "  Cardboard: 69 images\n",
      "  Food Organics: 61 images\n",
      "  Glass: 63 images\n",
      "  Metal: 118 images\n",
      "  Miscellaneous Trash: 74 images\n",
      "  Paper: 75 images\n",
      "  Plastic: 138 images\n",
      "  Textile Trash: 47 images\n",
      "  Vegetation: 65 images\n",
      "  Total: 710 images\n",
      "\n",
      "TEST SET:\n",
      "  Cardboard: 70 images\n",
      "  Food Organics: 63 images\n",
      "  Glass: 63 images\n",
      "  Metal: 119 images\n",
      "  Miscellaneous Trash: 75 images\n",
      "  Paper: 75 images\n",
      "  Plastic: 139 images\n",
      "  Textile Trash: 49 images\n",
      "  Vegetation: 66 images\n",
      "  Total: 719 images\n"
     ]
    }
   ],
   "source": [
    "def verify_split(dest_dir):\n",
    "    \"\"\"\n",
    "    Verify the split by counting images in each split\n",
    "    \"\"\"\n",
    "    print(\"\\nVerification of split:\")\n",
    "    print(\"=\"*50)\n",
    "    \n",
    "    for split in ['train', 'val', 'test']:\n",
    "        split_dir = os.path.join(dest_dir, split)\n",
    "        print(f\"\\n{split.upper()} SET:\")\n",
    "        \n",
    "        total_in_split = 0\n",
    "        classes = [d for d in os.listdir(split_dir) if os.path.isdir(os.path.join(split_dir, d))]\n",
    "        \n",
    "        for class_name in sorted(classes):\n",
    "            class_dir = os.path.join(split_dir, class_name)\n",
    "            n_images = len([f for f in os.listdir(class_dir) \n",
    "                           if f.lower().endswith(('.png', '.jpg', '.jpeg', '.bmp', '.gif'))])\n",
    "            print(f\"  {class_name}: {n_images} images\")\n",
    "            total_in_split += n_images\n",
    "        \n",
    "        print(f\"  Total: {total_in_split} images\")\n",
    "\n",
    "verify_split(DEST_DIR)"
   ]
  },
  {
   "cell_type": "markdown",
   "id": "f39832db",
   "metadata": {},
   "source": [
    "## Optional: Create a Summary Report"
   ]
  }
 ],
 "metadata": {
  "kernelspec": {
   "display_name": ".venv",
   "language": "python",
   "name": "python3"
  },
  "language_info": {
   "codemirror_mode": {
    "name": "ipython",
    "version": 3
   },
   "file_extension": ".py",
   "mimetype": "text/x-python",
   "name": "python",
   "nbconvert_exporter": "python",
   "pygments_lexer": "ipython3",
   "version": "3.13.7"
  }
 },
 "nbformat": 4,
 "nbformat_minor": 5
}
